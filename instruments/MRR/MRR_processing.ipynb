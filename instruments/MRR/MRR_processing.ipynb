{
 "cells": [
  {
   "cell_type": "markdown",
   "id": "9bfe0647-6d61-4995-bf72-4ddc4b594605",
   "metadata": {},
   "source": [
    "# Micro rain radar (MRR) preparation for IPFS"
   ]
  },
  {
   "cell_type": "code",
   "execution_count": null,
   "id": "0613c673-0be1-49b7-806e-c7a8ee152019",
   "metadata": {},
   "outputs": [],
   "source": [
    "import xarray as xr\n",
    "import numpy as np\n",
    "import glob\n",
    "import matplotlib.pyplot as plt\n",
    "from matplotlib.ticker import AutoMinorLocator, AutoLocator\n",
    "import yaml\n"
   ]
  },
  {
   "cell_type": "markdown",
   "id": "8df16ad8-b0d0-4d55-a226-bbf3d6f9b243",
   "metadata": {},
   "source": [
    "## Prepare data\n",
    "\n",
    "read config yaml which contains the data path and global attributes to be added to the dataset"
   ]
  },
  {
   "cell_type": "code",
   "execution_count": null,
   "id": "ad4efcea-2241-4d84-99bd-2fe50e07c2b4",
   "metadata": {},
   "outputs": [],
   "source": [
    "with open(\"mrr_config.yaml\", \"r\") as f:\n",
    "    config = yaml.safe_load(f)"
   ]
  },
  {
   "cell_type": "code",
   "execution_count": null,
   "id": "9d9a56c0-e319-4cf3-adad-b1051cd1a8de",
   "metadata": {},
   "outputs": [],
   "source": [
    "data_path = config['paths']['data_path']\n",
    "data_path_out = config['paths']['data_path_out']"
   ]
  },
  {
   "cell_type": "markdown",
   "id": "f4216fb8-b9f5-4dfb-aaed-ed6f29ba8740",
   "metadata": {},
   "source": [
    "read file list"
   ]
  },
  {
   "cell_type": "code",
   "execution_count": null,
   "id": "c05d6c71-2c86-4a77-acc4-21130dfd7e6a",
   "metadata": {},
   "outputs": [],
   "source": [
    "file_list = glob.glob(data_path + 'M*/*/*.nc')"
   ]
  },
  {
   "cell_type": "code",
   "execution_count": null,
   "id": "9f583d99-ad86-4ade-94f3-f26f9f6d82d1",
   "metadata": {},
   "outputs": [],
   "source": [
    "file_list.sort()"
   ]
  },
  {
   "cell_type": "markdown",
   "id": "f370c8e5-27f4-4ac0-8f22-8be72729b43a",
   "metadata": {},
   "source": [
    "read example file"
   ]
  },
  {
   "cell_type": "code",
   "execution_count": null,
   "id": "6f0e011a-2d00-436b-9ed7-474e97bd69a8",
   "metadata": {},
   "outputs": [],
   "source": [
    "data0 = xr.open_dataset(file_list[2])#.Ze.isel(range=1).plot()"
   ]
  },
  {
   "cell_type": "markdown",
   "id": "5db7fb99-3bfa-494f-ba9c-39ef4cc39e2e",
   "metadata": {},
   "source": [
    "read individual files from file list with xarray and make a data list  \n",
    "read only the reflectivity variable Ze"
   ]
  },
  {
   "cell_type": "code",
   "execution_count": null,
   "id": "e54eca9f-f26c-40b2-8b40-5d186f935b0a",
   "metadata": {},
   "outputs": [],
   "source": [
    "data_list = []\n",
    "for file in file_list:\n",
    "    data_list.append(xr.open_dataset(file).isel(range=slice(0,10)).Ze.drop_vars(['elevation', 'azimuth']))\n",
    "    "
   ]
  },
  {
   "cell_type": "markdown",
   "id": "8a4f2990-2598-4686-87d8-fb37cc845790",
   "metadata": {},
   "source": [
    "concatenate the data list to one data fiele"
   ]
  },
  {
   "cell_type": "code",
   "execution_count": null,
   "id": "898dd20e-2be3-4d63-87a9-35a65dac2afc",
   "metadata": {},
   "outputs": [],
   "source": [
    "data = xr.concat(data_list, dim='time')"
   ]
  },
  {
   "cell_type": "code",
   "execution_count": null,
   "id": "a471e923-78be-46ee-b507-77caf653e1d6",
   "metadata": {},
   "outputs": [],
   "source": [
    "data.sizes"
   ]
  },
  {
   "cell_type": "markdown",
   "id": "193002e9-4a7d-4d74-9ebd-42ad535cd6eb",
   "metadata": {},
   "source": [
    "## Find Ze threshold and radar range gate for rain flag definition  \n",
    "\n",
    "plot Ze for two different time periods, before and after the rearrangement of the MRR"
   ]
  },
  {
   "cell_type": "code",
   "execution_count": null,
   "id": "82772c9a-651b-4984-81e7-6dff2d530cc5",
   "metadata": {},
   "outputs": [],
   "source": [
    "fig, ax = plt.subplots(nrows=2, figsize=(12,5), sharex=True)\n",
    "\n",
    "for rr in range(0,10):\n",
    "    data.isel(range=rr).sel(time=slice('2024-08-18T00:00', '2024-08-22T18:00')).plot.hist(bins=np.arange(-30,50,.5), histtype='step', label=rr, ax=ax[0])\n",
    "    data.isel(range=rr).sel(time=slice('2024-08-22T18:00', '2024-09-22T12:00')).plot.hist(bins=np.arange(-30,50,.5), histtype='step', label=rr, ax=ax[1])\n",
    "\n",
    "for axi in ax:\n",
    "    axi.set_title('')\n",
    "    axi.set_ylabel('Frequency of occurrence')\n",
    "    axi.legend(ncols=2, frameon=False, title='radar range gate')\n",
    "    #axi.set_ylim(0,4000)\n",
    "    axi.set_xlabel('')\n",
    "    axi.xaxis.set_minor_locator(AutoMinorLocator(5))\n",
    "\n",
    "ax[0].vlines(3, 0, 4000, color='lightgray')\n",
    "ax[1].vlines(3, 0, 1200, color='lightgray')\n",
    "ax[0].set_title('MRR-Pro: until 22 August, 2024')\n",
    "ax[1].set_title('MRR-Pro: from 22 August, 2024')\n",
    "ax[1].set_xlabel('Reflectivity factor (dBZ)')\n",
    "\n",
    "\n",
    "plt.savefig('MRR_Ze_lowest_radar_range_gate.png')"
   ]
  },
  {
   "cell_type": "markdown",
   "id": "f0de5db0-f604-4ee0-a73d-ce20e01b2240",
   "metadata": {},
   "source": [
    "Ze threshold set to 3 dBZ"
   ]
  },
  {
   "cell_type": "markdown",
   "id": "bd92f370-2465-4ba1-978c-4fa67155cb22",
   "metadata": {},
   "source": [
    "## Create rain flag"
   ]
  },
  {
   "cell_type": "code",
   "execution_count": null,
   "id": "b1aa06ee-4821-4cac-92e1-481eadc86a29",
   "metadata": {},
   "outputs": [],
   "source": [
    "# Create a mask: 1 for finite values, 0 for NaNs\n",
    "finite_mask = xr.where(data.isel(range=3) > 3, 1, 0)\n",
    "\n",
    "# Create a Dataset with the mask as a new variable\n",
    "dataset = xr.Dataset({\"rain_flag\": finite_mask})\n",
    "\n",
    "# add attribute to variable\n",
    "dataset['rain_flag'].attrs['note'] = '1 in case of rain'"
   ]
  },
  {
   "cell_type": "markdown",
   "id": "2c75de8b-a632-4071-9d4a-2b2674d7e20a",
   "metadata": {},
   "source": [
    "## Add global attributes"
   ]
  },
  {
   "cell_type": "code",
   "execution_count": null,
   "id": "e60e70f0-4840-4abd-8d8a-b26659502967",
   "metadata": {},
   "outputs": [],
   "source": [
    "global_attrs = config['global_attrs']"
   ]
  },
  {
   "cell_type": "code",
   "execution_count": null,
   "id": "37c5148b-d176-4a8c-9297-88fc3fb9b605",
   "metadata": {},
   "outputs": [],
   "source": [
    "for key, value in global_attrs.items():\n",
    "    if key in dataset.attrs:\n",
    "        # Fallunterscheidung je nach Typ des bestehenden Attributs\n",
    "        if isinstance(dataset.attrs[key], str):\n",
    "            dataset.attrs[key] += f\"\\n{value}\"  # oder einfach + f\", {value}\" nach Geschmack\n",
    "        elif isinstance(dataset.attrs[key], list):\n",
    "            if isinstance(value, list):\n",
    "                dataset.attrs[key].extend(value)\n",
    "            else:\n",
    "                dataset.attrs[key].append(value)\n",
    "        else:\n",
    "            # Für andere Typen: in Liste umwandeln und beide anhängen\n",
    "            dataset.attrs[key] = [dataset.attrs[key], value]\n",
    "    else:\n",
    "        dataset.attrs[key] = value\n"
   ]
  },
  {
   "cell_type": "markdown",
   "id": "b6e7c9a4-b8c4-44da-9990-fbd48f8b7116",
   "metadata": {},
   "source": [
    "## Write dataset into netCDF"
   ]
  },
  {
   "cell_type": "code",
   "execution_count": null,
   "id": "45bde772-df8f-4c4c-9680-10fa85d74ef2",
   "metadata": {},
   "outputs": [],
   "source": [
    "dataset.to_netcdf('mrr_rainflag.nc')"
   ]
  },
  {
   "cell_type": "markdown",
   "id": "f493b719-1bb2-43f8-82a3-8c6d0e7129aa",
   "metadata": {},
   "source": [
    "## Write dataset into zarr"
   ]
  },
  {
   "cell_type": "code",
   "execution_count": null,
   "id": "be34bd23-b9ee-4bb9-b83c-b5aa856b6e8b",
   "metadata": {},
   "outputs": [],
   "source": [
    "dataset.to_zarr(data_path_out + \"mrr_rainflag.zarr\", mode=\"w\")"
   ]
  },
  {
   "cell_type": "code",
   "execution_count": null,
   "id": "7fc75755-5270-4eca-9893-c0d3e5089ca8",
   "metadata": {},
   "outputs": [],
   "source": []
  },
  {
   "cell_type": "code",
   "execution_count": null,
   "id": "5c1fd024-23bb-4baf-9a88-f4ce95b27585",
   "metadata": {},
   "outputs": [],
   "source": []
  },
  {
   "cell_type": "code",
   "execution_count": null,
   "id": "5da44ac9-b536-4e52-b514-67e1f6b1729c",
   "metadata": {},
   "outputs": [],
   "source": []
  }
 ],
 "metadata": {
  "kernelspec": {
   "display_name": "Python 3 (ipykernel)",
   "language": "python",
   "name": "python3"
  },
  "language_info": {
   "codemirror_mode": {
    "name": "ipython",
    "version": 3
   },
   "file_extension": ".py",
   "mimetype": "text/x-python",
   "name": "python",
   "nbconvert_exporter": "python",
   "pygments_lexer": "ipython3",
   "version": "3.12.5"
  }
 },
 "nbformat": 4,
 "nbformat_minor": 5
}
