{
 "cells": [
  {
   "cell_type": "markdown",
   "id": "acec1db1-dd00-4fdf-8ae5-066259b3b460",
   "metadata": {},
   "source": [
    "# HATPRO post processing for IPFS"
   ]
  },
  {
   "cell_type": "code",
   "execution_count": 1,
   "id": "5d9d3177-189e-48f8-8c15-89f0e690c5b0",
   "metadata": {},
   "outputs": [],
   "source": [
    "import xarray as xr\n",
    "import numpy as np\n",
    "import glob\n",
    "import matplotlib.pyplot as plt\n",
    "from matplotlib.ticker import AutoMinorLocator, AutoLocator\n",
    "import yaml\n"
   ]
  },
  {
   "cell_type": "code",
   "execution_count": 2,
   "id": "4be16ead-b534-4c6a-8d0c-e42b0ff56d72",
   "metadata": {},
   "outputs": [],
   "source": [
    "def add_gl_attrs(data, global_attrs):\n",
    "    for key, value in global_attrs.items():\n",
    "        if key in data.attrs:\n",
    "            # Fallunterscheidung je nach Typ des bestehenden Attributs\n",
    "            if isinstance(data.attrs[key], str):\n",
    "                data.attrs[key] = f\"{value}\\n{data.attrs[key]}\"\n",
    "            elif isinstance(data.attrs[key], list):\n",
    "                if isinstance(value, list):\n",
    "                    data.attrs[key] = [value, data.attrs[key]]\n",
    "            else:\n",
    "                # Für andere Typen: in Liste umwandeln und beide anhängen\n",
    "                data.attrs[key] = [value, data.attrs[key]]\n",
    "        else:\n",
    "            data.attrs[key] = value\n",
    "    return data"
   ]
  },
  {
   "cell_type": "markdown",
   "id": "dfc20773-66b5-4e1e-860e-59fbe8092ad0",
   "metadata": {},
   "source": [
    "## Prepare data\n",
    "\n",
    "read config yaml which contains the data path and global attributes to be added to the dataset"
   ]
  },
  {
   "cell_type": "code",
   "execution_count": 3,
   "id": "a33c69d9-83d9-41d4-a956-5cc3e20f28dc",
   "metadata": {},
   "outputs": [],
   "source": [
    "with open(\"hatpro_config.yaml\", \"r\") as f:\n",
    "    config = yaml.safe_load(f)"
   ]
  },
  {
   "cell_type": "code",
   "execution_count": 4,
   "id": "3ed3a415-bff5-40e8-a071-9d329e0c0bc1",
   "metadata": {},
   "outputs": [
    {
     "data": {
      "text/plain": [
       "{'summary': 'Flag for rain occurence retrieved from the Micro Rain Radar measurement. Therefore, the observed reflectivity in secondlowest radar range gate (120m)?',\n",
       " 'creator_name': 'Andreas Foth',\n",
       " 'creator_email': 'andreas.foth@uni-leipzig.de',\n",
       " 'license': 'CC BY 4.0',\n",
       " 'project': 'BOWTIE',\n",
       " 'platform': 'RV METEOR',\n",
       " 'history': '2025-05-16 07:30:00 +00:00 - HATPRO postprocessing - Adding global attributes according to IPFS',\n",
       " 'references': '10.21105/joss.06733',\n",
       " 'processing_level': 'Level 2',\n",
       " 'institution': 'Leipzig Institute for Meteorology, Leipzig University',\n",
       " 'creator_id': 'ORCiD: 0000-0002-1164-3576'}"
      ]
     },
     "execution_count": 4,
     "metadata": {},
     "output_type": "execute_result"
    }
   ],
   "source": [
    "global_attrs = config['global_attrs']\n",
    "global_attrs"
   ]
  },
  {
   "cell_type": "code",
   "execution_count": 5,
   "id": "fedfdd53-9dfe-495f-8935-8469b3f7c160",
   "metadata": {},
   "outputs": [],
   "source": [
    "data_path_multi = config['paths']['data_path_multi']\n",
    "data_path_single = config['paths']['data_path_single']\n",
    "\n",
    "data_path_out_multi = config['paths']['data_path_out_multi']\n",
    "data_path_out_single = config['paths']['data_path_out_single']"
   ]
  },
  {
   "cell_type": "code",
   "execution_count": 10,
   "id": "48fce1e3-0747-49c2-9234-2b024fc4b047",
   "metadata": {},
   "outputs": [],
   "source": [
    "file_list_multi = glob.glob(data_path_multi + '*hatpro-multi_*.nc')\n",
    "file_list_single = glob.glob(data_path_single + '*hatpro-single_*.nc')\n",
    "\n",
    "file_list_multi.sort()\n",
    "file_list_single.sort()"
   ]
  },
  {
   "cell_type": "code",
   "execution_count": 11,
   "id": "37cf60ee-8365-445f-a5fd-830290924ac8",
   "metadata": {},
   "outputs": [
    {
     "data": {
      "text/plain": [
       "['/projekt7/remsens/data_new/site-campaign/rv_meteor-bowtie/cloudnet/mwrpy/single_pointing/20240817_rv-meteor_hatpro-single_3e013ad1.nc',\n",
       " '/projekt7/remsens/data_new/site-campaign/rv_meteor-bowtie/cloudnet/mwrpy/single_pointing/20240818_rv-meteor_hatpro-single_3e013ad1.nc',\n",
       " '/projekt7/remsens/data_new/site-campaign/rv_meteor-bowtie/cloudnet/mwrpy/single_pointing/20240819_rv-meteor_hatpro-single_3e013ad1.nc',\n",
       " '/projekt7/remsens/data_new/site-campaign/rv_meteor-bowtie/cloudnet/mwrpy/single_pointing/20240820_rv-meteor_hatpro-single_3e013ad1.nc',\n",
       " '/projekt7/remsens/data_new/site-campaign/rv_meteor-bowtie/cloudnet/mwrpy/single_pointing/20240821_rv-meteor_hatpro-single_3e013ad1.nc',\n",
       " '/projekt7/remsens/data_new/site-campaign/rv_meteor-bowtie/cloudnet/mwrpy/single_pointing/20240822_rv-meteor_hatpro-single_3e013ad1.nc',\n",
       " '/projekt7/remsens/data_new/site-campaign/rv_meteor-bowtie/cloudnet/mwrpy/single_pointing/20240823_rv-meteor_hatpro-single_3e013ad1.nc',\n",
       " '/projekt7/remsens/data_new/site-campaign/rv_meteor-bowtie/cloudnet/mwrpy/single_pointing/20240824_rv-meteor_hatpro-single_3e013ad1.nc',\n",
       " '/projekt7/remsens/data_new/site-campaign/rv_meteor-bowtie/cloudnet/mwrpy/single_pointing/20240825_rv-meteor_hatpro-single_3e013ad1.nc',\n",
       " '/projekt7/remsens/data_new/site-campaign/rv_meteor-bowtie/cloudnet/mwrpy/single_pointing/20240826_rv-meteor_hatpro-single_3e013ad1.nc',\n",
       " '/projekt7/remsens/data_new/site-campaign/rv_meteor-bowtie/cloudnet/mwrpy/single_pointing/20240827_rv-meteor_hatpro-single_3e013ad1.nc',\n",
       " '/projekt7/remsens/data_new/site-campaign/rv_meteor-bowtie/cloudnet/mwrpy/single_pointing/20240828_rv-meteor_hatpro-single_3e013ad1.nc',\n",
       " '/projekt7/remsens/data_new/site-campaign/rv_meteor-bowtie/cloudnet/mwrpy/single_pointing/20240829_rv-meteor_hatpro-single_3e013ad1.nc',\n",
       " '/projekt7/remsens/data_new/site-campaign/rv_meteor-bowtie/cloudnet/mwrpy/single_pointing/20240830_rv-meteor_hatpro-single_3e013ad1.nc',\n",
       " '/projekt7/remsens/data_new/site-campaign/rv_meteor-bowtie/cloudnet/mwrpy/single_pointing/20240831_rv-meteor_hatpro-single_3e013ad1.nc',\n",
       " '/projekt7/remsens/data_new/site-campaign/rv_meteor-bowtie/cloudnet/mwrpy/single_pointing/20240901_rv-meteor_hatpro-single_3e013ad1.nc',\n",
       " '/projekt7/remsens/data_new/site-campaign/rv_meteor-bowtie/cloudnet/mwrpy/single_pointing/20240902_rv-meteor_hatpro-single_3e013ad1.nc',\n",
       " '/projekt7/remsens/data_new/site-campaign/rv_meteor-bowtie/cloudnet/mwrpy/single_pointing/20240903_rv-meteor_hatpro-single_3e013ad1.nc',\n",
       " '/projekt7/remsens/data_new/site-campaign/rv_meteor-bowtie/cloudnet/mwrpy/single_pointing/20240904_rv-meteor_hatpro-single_3e013ad1.nc',\n",
       " '/projekt7/remsens/data_new/site-campaign/rv_meteor-bowtie/cloudnet/mwrpy/single_pointing/20240905_rv-meteor_hatpro-single_3e013ad1.nc',\n",
       " '/projekt7/remsens/data_new/site-campaign/rv_meteor-bowtie/cloudnet/mwrpy/single_pointing/20240906_rv-meteor_hatpro-single_3e013ad1.nc',\n",
       " '/projekt7/remsens/data_new/site-campaign/rv_meteor-bowtie/cloudnet/mwrpy/single_pointing/20240907_rv-meteor_hatpro-single_3e013ad1.nc',\n",
       " '/projekt7/remsens/data_new/site-campaign/rv_meteor-bowtie/cloudnet/mwrpy/single_pointing/20240908_rv-meteor_hatpro-single_3e013ad1.nc',\n",
       " '/projekt7/remsens/data_new/site-campaign/rv_meteor-bowtie/cloudnet/mwrpy/single_pointing/20240909_rv-meteor_hatpro-single_3e013ad1.nc',\n",
       " '/projekt7/remsens/data_new/site-campaign/rv_meteor-bowtie/cloudnet/mwrpy/single_pointing/20240910_rv-meteor_hatpro-single_3e013ad1.nc',\n",
       " '/projekt7/remsens/data_new/site-campaign/rv_meteor-bowtie/cloudnet/mwrpy/single_pointing/20240911_rv-meteor_hatpro-single_3e013ad1.nc',\n",
       " '/projekt7/remsens/data_new/site-campaign/rv_meteor-bowtie/cloudnet/mwrpy/single_pointing/20240912_rv-meteor_hatpro-single_3e013ad1.nc',\n",
       " '/projekt7/remsens/data_new/site-campaign/rv_meteor-bowtie/cloudnet/mwrpy/single_pointing/20240913_rv-meteor_hatpro-single_3e013ad1.nc',\n",
       " '/projekt7/remsens/data_new/site-campaign/rv_meteor-bowtie/cloudnet/mwrpy/single_pointing/20240914_rv-meteor_hatpro-single_3e013ad1.nc',\n",
       " '/projekt7/remsens/data_new/site-campaign/rv_meteor-bowtie/cloudnet/mwrpy/single_pointing/20240915_rv-meteor_hatpro-single_3e013ad1.nc',\n",
       " '/projekt7/remsens/data_new/site-campaign/rv_meteor-bowtie/cloudnet/mwrpy/single_pointing/20240916_rv-meteor_hatpro-single_3e013ad1.nc',\n",
       " '/projekt7/remsens/data_new/site-campaign/rv_meteor-bowtie/cloudnet/mwrpy/single_pointing/20240917_rv-meteor_hatpro-single_3e013ad1.nc',\n",
       " '/projekt7/remsens/data_new/site-campaign/rv_meteor-bowtie/cloudnet/mwrpy/single_pointing/20240918_rv-meteor_hatpro-single_3e013ad1.nc',\n",
       " '/projekt7/remsens/data_new/site-campaign/rv_meteor-bowtie/cloudnet/mwrpy/single_pointing/20240919_rv-meteor_hatpro-single_3e013ad1.nc',\n",
       " '/projekt7/remsens/data_new/site-campaign/rv_meteor-bowtie/cloudnet/mwrpy/single_pointing/20240920_rv-meteor_hatpro-single_3e013ad1.nc',\n",
       " '/projekt7/remsens/data_new/site-campaign/rv_meteor-bowtie/cloudnet/mwrpy/single_pointing/20240921_rv-meteor_hatpro-single_3e013ad1.nc',\n",
       " '/projekt7/remsens/data_new/site-campaign/rv_meteor-bowtie/cloudnet/mwrpy/single_pointing/20240922_rv-meteor_hatpro-single_3e013ad1.nc']"
      ]
     },
     "execution_count": 11,
     "metadata": {},
     "output_type": "execute_result"
    }
   ],
   "source": [
    "file_list_single"
   ]
  },
  {
   "cell_type": "code",
   "execution_count": 9,
   "id": "8652d7e3-af26-4f93-a101-e883e3615534",
   "metadata": {
    "scrolled": true
   },
   "outputs": [
    {
     "name": "stderr",
     "output_type": "stream",
     "text": [
      "/home/afoth/.conda/envs/py3-12_ac3/lib/python3.12/site-packages/zarr/api/asynchronous.py:205: UserWarning: Consolidated metadata is currently not part in the Zarr format 3 specification. It may not be supported by other zarr implementations and may change in the future.\n",
      "  warnings.warn(\n",
      "/home/afoth/.conda/envs/py3-12_ac3/lib/python3.12/site-packages/zarr/api/asynchronous.py:205: UserWarning: Consolidated metadata is currently not part in the Zarr format 3 specification. It may not be supported by other zarr implementations and may change in the future.\n",
      "  warnings.warn(\n",
      "/home/afoth/.conda/envs/py3-12_ac3/lib/python3.12/site-packages/zarr/api/asynchronous.py:205: UserWarning: Consolidated metadata is currently not part in the Zarr format 3 specification. It may not be supported by other zarr implementations and may change in the future.\n",
      "  warnings.warn(\n",
      "/home/afoth/.conda/envs/py3-12_ac3/lib/python3.12/site-packages/zarr/api/asynchronous.py:205: UserWarning: Consolidated metadata is currently not part in the Zarr format 3 specification. It may not be supported by other zarr implementations and may change in the future.\n",
      "  warnings.warn(\n",
      "/home/afoth/.conda/envs/py3-12_ac3/lib/python3.12/site-packages/zarr/api/asynchronous.py:205: UserWarning: Consolidated metadata is currently not part in the Zarr format 3 specification. It may not be supported by other zarr implementations and may change in the future.\n",
      "  warnings.warn(\n",
      "/home/afoth/.conda/envs/py3-12_ac3/lib/python3.12/site-packages/zarr/api/asynchronous.py:205: UserWarning: Consolidated metadata is currently not part in the Zarr format 3 specification. It may not be supported by other zarr implementations and may change in the future.\n",
      "  warnings.warn(\n",
      "/home/afoth/.conda/envs/py3-12_ac3/lib/python3.12/site-packages/zarr/api/asynchronous.py:205: UserWarning: Consolidated metadata is currently not part in the Zarr format 3 specification. It may not be supported by other zarr implementations and may change in the future.\n",
      "  warnings.warn(\n",
      "/home/afoth/.conda/envs/py3-12_ac3/lib/python3.12/site-packages/zarr/api/asynchronous.py:205: UserWarning: Consolidated metadata is currently not part in the Zarr format 3 specification. It may not be supported by other zarr implementations and may change in the future.\n",
      "  warnings.warn(\n",
      "/home/afoth/.conda/envs/py3-12_ac3/lib/python3.12/site-packages/zarr/api/asynchronous.py:205: UserWarning: Consolidated metadata is currently not part in the Zarr format 3 specification. It may not be supported by other zarr implementations and may change in the future.\n",
      "  warnings.warn(\n",
      "/home/afoth/.conda/envs/py3-12_ac3/lib/python3.12/site-packages/zarr/api/asynchronous.py:205: UserWarning: Consolidated metadata is currently not part in the Zarr format 3 specification. It may not be supported by other zarr implementations and may change in the future.\n",
      "  warnings.warn(\n",
      "/home/afoth/.conda/envs/py3-12_ac3/lib/python3.12/site-packages/zarr/api/asynchronous.py:205: UserWarning: Consolidated metadata is currently not part in the Zarr format 3 specification. It may not be supported by other zarr implementations and may change in the future.\n",
      "  warnings.warn(\n",
      "/home/afoth/.conda/envs/py3-12_ac3/lib/python3.12/site-packages/zarr/api/asynchronous.py:205: UserWarning: Consolidated metadata is currently not part in the Zarr format 3 specification. It may not be supported by other zarr implementations and may change in the future.\n",
      "  warnings.warn(\n",
      "/home/afoth/.conda/envs/py3-12_ac3/lib/python3.12/site-packages/zarr/api/asynchronous.py:205: UserWarning: Consolidated metadata is currently not part in the Zarr format 3 specification. It may not be supported by other zarr implementations and may change in the future.\n",
      "  warnings.warn(\n",
      "/home/afoth/.conda/envs/py3-12_ac3/lib/python3.12/site-packages/zarr/api/asynchronous.py:205: UserWarning: Consolidated metadata is currently not part in the Zarr format 3 specification. It may not be supported by other zarr implementations and may change in the future.\n",
      "  warnings.warn(\n",
      "/home/afoth/.conda/envs/py3-12_ac3/lib/python3.12/site-packages/zarr/api/asynchronous.py:205: UserWarning: Consolidated metadata is currently not part in the Zarr format 3 specification. It may not be supported by other zarr implementations and may change in the future.\n",
      "  warnings.warn(\n",
      "/home/afoth/.conda/envs/py3-12_ac3/lib/python3.12/site-packages/zarr/api/asynchronous.py:205: UserWarning: Consolidated metadata is currently not part in the Zarr format 3 specification. It may not be supported by other zarr implementations and may change in the future.\n",
      "  warnings.warn(\n",
      "/home/afoth/.conda/envs/py3-12_ac3/lib/python3.12/site-packages/zarr/api/asynchronous.py:205: UserWarning: Consolidated metadata is currently not part in the Zarr format 3 specification. It may not be supported by other zarr implementations and may change in the future.\n",
      "  warnings.warn(\n",
      "/home/afoth/.conda/envs/py3-12_ac3/lib/python3.12/site-packages/zarr/api/asynchronous.py:205: UserWarning: Consolidated metadata is currently not part in the Zarr format 3 specification. It may not be supported by other zarr implementations and may change in the future.\n",
      "  warnings.warn(\n",
      "/home/afoth/.conda/envs/py3-12_ac3/lib/python3.12/site-packages/zarr/api/asynchronous.py:205: UserWarning: Consolidated metadata is currently not part in the Zarr format 3 specification. It may not be supported by other zarr implementations and may change in the future.\n",
      "  warnings.warn(\n",
      "/home/afoth/.conda/envs/py3-12_ac3/lib/python3.12/site-packages/zarr/api/asynchronous.py:205: UserWarning: Consolidated metadata is currently not part in the Zarr format 3 specification. It may not be supported by other zarr implementations and may change in the future.\n",
      "  warnings.warn(\n",
      "/home/afoth/.conda/envs/py3-12_ac3/lib/python3.12/site-packages/zarr/api/asynchronous.py:205: UserWarning: Consolidated metadata is currently not part in the Zarr format 3 specification. It may not be supported by other zarr implementations and may change in the future.\n",
      "  warnings.warn(\n",
      "/home/afoth/.conda/envs/py3-12_ac3/lib/python3.12/site-packages/zarr/api/asynchronous.py:205: UserWarning: Consolidated metadata is currently not part in the Zarr format 3 specification. It may not be supported by other zarr implementations and may change in the future.\n",
      "  warnings.warn(\n",
      "/home/afoth/.conda/envs/py3-12_ac3/lib/python3.12/site-packages/zarr/api/asynchronous.py:205: UserWarning: Consolidated metadata is currently not part in the Zarr format 3 specification. It may not be supported by other zarr implementations and may change in the future.\n",
      "  warnings.warn(\n",
      "/home/afoth/.conda/envs/py3-12_ac3/lib/python3.12/site-packages/zarr/api/asynchronous.py:205: UserWarning: Consolidated metadata is currently not part in the Zarr format 3 specification. It may not be supported by other zarr implementations and may change in the future.\n",
      "  warnings.warn(\n",
      "/home/afoth/.conda/envs/py3-12_ac3/lib/python3.12/site-packages/zarr/api/asynchronous.py:205: UserWarning: Consolidated metadata is currently not part in the Zarr format 3 specification. It may not be supported by other zarr implementations and may change in the future.\n",
      "  warnings.warn(\n",
      "/home/afoth/.conda/envs/py3-12_ac3/lib/python3.12/site-packages/zarr/api/asynchronous.py:205: UserWarning: Consolidated metadata is currently not part in the Zarr format 3 specification. It may not be supported by other zarr implementations and may change in the future.\n",
      "  warnings.warn(\n",
      "/home/afoth/.conda/envs/py3-12_ac3/lib/python3.12/site-packages/zarr/api/asynchronous.py:205: UserWarning: Consolidated metadata is currently not part in the Zarr format 3 specification. It may not be supported by other zarr implementations and may change in the future.\n",
      "  warnings.warn(\n",
      "/home/afoth/.conda/envs/py3-12_ac3/lib/python3.12/site-packages/zarr/api/asynchronous.py:205: UserWarning: Consolidated metadata is currently not part in the Zarr format 3 specification. It may not be supported by other zarr implementations and may change in the future.\n",
      "  warnings.warn(\n",
      "/home/afoth/.conda/envs/py3-12_ac3/lib/python3.12/site-packages/zarr/api/asynchronous.py:205: UserWarning: Consolidated metadata is currently not part in the Zarr format 3 specification. It may not be supported by other zarr implementations and may change in the future.\n",
      "  warnings.warn(\n",
      "/home/afoth/.conda/envs/py3-12_ac3/lib/python3.12/site-packages/zarr/api/asynchronous.py:205: UserWarning: Consolidated metadata is currently not part in the Zarr format 3 specification. It may not be supported by other zarr implementations and may change in the future.\n",
      "  warnings.warn(\n",
      "/home/afoth/.conda/envs/py3-12_ac3/lib/python3.12/site-packages/zarr/api/asynchronous.py:205: UserWarning: Consolidated metadata is currently not part in the Zarr format 3 specification. It may not be supported by other zarr implementations and may change in the future.\n",
      "  warnings.warn(\n",
      "/home/afoth/.conda/envs/py3-12_ac3/lib/python3.12/site-packages/zarr/api/asynchronous.py:205: UserWarning: Consolidated metadata is currently not part in the Zarr format 3 specification. It may not be supported by other zarr implementations and may change in the future.\n",
      "  warnings.warn(\n",
      "/home/afoth/.conda/envs/py3-12_ac3/lib/python3.12/site-packages/zarr/api/asynchronous.py:205: UserWarning: Consolidated metadata is currently not part in the Zarr format 3 specification. It may not be supported by other zarr implementations and may change in the future.\n",
      "  warnings.warn(\n",
      "/home/afoth/.conda/envs/py3-12_ac3/lib/python3.12/site-packages/zarr/api/asynchronous.py:205: UserWarning: Consolidated metadata is currently not part in the Zarr format 3 specification. It may not be supported by other zarr implementations and may change in the future.\n",
      "  warnings.warn(\n",
      "/home/afoth/.conda/envs/py3-12_ac3/lib/python3.12/site-packages/zarr/api/asynchronous.py:205: UserWarning: Consolidated metadata is currently not part in the Zarr format 3 specification. It may not be supported by other zarr implementations and may change in the future.\n",
      "  warnings.warn(\n",
      "/home/afoth/.conda/envs/py3-12_ac3/lib/python3.12/site-packages/zarr/api/asynchronous.py:205: UserWarning: Consolidated metadata is currently not part in the Zarr format 3 specification. It may not be supported by other zarr implementations and may change in the future.\n",
      "  warnings.warn(\n",
      "/home/afoth/.conda/envs/py3-12_ac3/lib/python3.12/site-packages/zarr/api/asynchronous.py:205: UserWarning: Consolidated metadata is currently not part in the Zarr format 3 specification. It may not be supported by other zarr implementations and may change in the future.\n",
      "  warnings.warn(\n"
     ]
    }
   ],
   "source": [
    "for file in file_list_multi:\n",
    "    #read hatpro file\n",
    "    data = xr.open_dataset(file)\n",
    "\n",
    "    # Add global attributes according to IPFS\n",
    "    data = add_gl_attrs(data, global_attrs)\n",
    "\n",
    "    filename = file.split('/')[-1].split('.')[0]\n",
    "\n",
    "    data.to_zarr(data_path_out_multi + filename + \".zarr\", mode=\"w\")\n",
    "\n",
    "    data.close()"
   ]
  },
  {
   "cell_type": "code",
   "execution_count": null,
   "id": "832c2d43-fb39-475c-bfc7-b3605ded2d75",
   "metadata": {},
   "outputs": [
    {
     "name": "stderr",
     "output_type": "stream",
     "text": [
      "/home/afoth/.conda/envs/py3-12_ac3/lib/python3.12/site-packages/zarr/api/asynchronous.py:205: UserWarning: Consolidated metadata is currently not part in the Zarr format 3 specification. It may not be supported by other zarr implementations and may change in the future.\n",
      "  warnings.warn(\n",
      "/home/afoth/.conda/envs/py3-12_ac3/lib/python3.12/site-packages/zarr/api/asynchronous.py:205: UserWarning: Consolidated metadata is currently not part in the Zarr format 3 specification. It may not be supported by other zarr implementations and may change in the future.\n",
      "  warnings.warn(\n",
      "/home/afoth/.conda/envs/py3-12_ac3/lib/python3.12/site-packages/zarr/api/asynchronous.py:205: UserWarning: Consolidated metadata is currently not part in the Zarr format 3 specification. It may not be supported by other zarr implementations and may change in the future.\n",
      "  warnings.warn(\n",
      "/home/afoth/.conda/envs/py3-12_ac3/lib/python3.12/site-packages/zarr/api/asynchronous.py:205: UserWarning: Consolidated metadata is currently not part in the Zarr format 3 specification. It may not be supported by other zarr implementations and may change in the future.\n",
      "  warnings.warn(\n",
      "/home/afoth/.conda/envs/py3-12_ac3/lib/python3.12/site-packages/zarr/api/asynchronous.py:205: UserWarning: Consolidated metadata is currently not part in the Zarr format 3 specification. It may not be supported by other zarr implementations and may change in the future.\n",
      "  warnings.warn(\n",
      "/home/afoth/.conda/envs/py3-12_ac3/lib/python3.12/site-packages/zarr/api/asynchronous.py:205: UserWarning: Consolidated metadata is currently not part in the Zarr format 3 specification. It may not be supported by other zarr implementations and may change in the future.\n",
      "  warnings.warn(\n",
      "/home/afoth/.conda/envs/py3-12_ac3/lib/python3.12/site-packages/zarr/api/asynchronous.py:205: UserWarning: Consolidated metadata is currently not part in the Zarr format 3 specification. It may not be supported by other zarr implementations and may change in the future.\n",
      "  warnings.warn(\n",
      "/home/afoth/.conda/envs/py3-12_ac3/lib/python3.12/site-packages/zarr/api/asynchronous.py:205: UserWarning: Consolidated metadata is currently not part in the Zarr format 3 specification. It may not be supported by other zarr implementations and may change in the future.\n",
      "  warnings.warn(\n",
      "/home/afoth/.conda/envs/py3-12_ac3/lib/python3.12/site-packages/zarr/api/asynchronous.py:205: UserWarning: Consolidated metadata is currently not part in the Zarr format 3 specification. It may not be supported by other zarr implementations and may change in the future.\n",
      "  warnings.warn(\n",
      "/home/afoth/.conda/envs/py3-12_ac3/lib/python3.12/site-packages/zarr/api/asynchronous.py:205: UserWarning: Consolidated metadata is currently not part in the Zarr format 3 specification. It may not be supported by other zarr implementations and may change in the future.\n",
      "  warnings.warn(\n",
      "/home/afoth/.conda/envs/py3-12_ac3/lib/python3.12/site-packages/zarr/api/asynchronous.py:205: UserWarning: Consolidated metadata is currently not part in the Zarr format 3 specification. It may not be supported by other zarr implementations and may change in the future.\n",
      "  warnings.warn(\n",
      "/home/afoth/.conda/envs/py3-12_ac3/lib/python3.12/site-packages/zarr/api/asynchronous.py:205: UserWarning: Consolidated metadata is currently not part in the Zarr format 3 specification. It may not be supported by other zarr implementations and may change in the future.\n",
      "  warnings.warn(\n",
      "/home/afoth/.conda/envs/py3-12_ac3/lib/python3.12/site-packages/zarr/api/asynchronous.py:205: UserWarning: Consolidated metadata is currently not part in the Zarr format 3 specification. It may not be supported by other zarr implementations and may change in the future.\n",
      "  warnings.warn(\n",
      "/home/afoth/.conda/envs/py3-12_ac3/lib/python3.12/site-packages/zarr/api/asynchronous.py:205: UserWarning: Consolidated metadata is currently not part in the Zarr format 3 specification. It may not be supported by other zarr implementations and may change in the future.\n",
      "  warnings.warn(\n",
      "/home/afoth/.conda/envs/py3-12_ac3/lib/python3.12/site-packages/zarr/api/asynchronous.py:205: UserWarning: Consolidated metadata is currently not part in the Zarr format 3 specification. It may not be supported by other zarr implementations and may change in the future.\n",
      "  warnings.warn(\n",
      "/home/afoth/.conda/envs/py3-12_ac3/lib/python3.12/site-packages/zarr/api/asynchronous.py:205: UserWarning: Consolidated metadata is currently not part in the Zarr format 3 specification. It may not be supported by other zarr implementations and may change in the future.\n",
      "  warnings.warn(\n",
      "/home/afoth/.conda/envs/py3-12_ac3/lib/python3.12/site-packages/zarr/api/asynchronous.py:205: UserWarning: Consolidated metadata is currently not part in the Zarr format 3 specification. It may not be supported by other zarr implementations and may change in the future.\n",
      "  warnings.warn(\n",
      "/home/afoth/.conda/envs/py3-12_ac3/lib/python3.12/site-packages/zarr/api/asynchronous.py:205: UserWarning: Consolidated metadata is currently not part in the Zarr format 3 specification. It may not be supported by other zarr implementations and may change in the future.\n",
      "  warnings.warn(\n",
      "/home/afoth/.conda/envs/py3-12_ac3/lib/python3.12/site-packages/zarr/api/asynchronous.py:205: UserWarning: Consolidated metadata is currently not part in the Zarr format 3 specification. It may not be supported by other zarr implementations and may change in the future.\n",
      "  warnings.warn(\n",
      "/home/afoth/.conda/envs/py3-12_ac3/lib/python3.12/site-packages/zarr/api/asynchronous.py:205: UserWarning: Consolidated metadata is currently not part in the Zarr format 3 specification. It may not be supported by other zarr implementations and may change in the future.\n",
      "  warnings.warn(\n"
     ]
    }
   ],
   "source": [
    "for file in file_list_single:\n",
    "    #read hatpro file\n",
    "    data = xr.open_dataset(file)\n",
    "\n",
    "    # Add global attributes according to IPFS\n",
    "    data = add_gl_attrs(data, global_attrs)\n",
    "\n",
    "    filename = file.split('/')[-1].split('.')[0]\n",
    "\n",
    "    data.to_zarr(data_path_out_single + filename + \".zarr\", mode=\"w\")\n",
    "\n",
    "    data.close()"
   ]
  },
  {
   "cell_type": "code",
   "execution_count": null,
   "id": "fb756e3e-60d3-493a-bc1f-3144da0bfd63",
   "metadata": {},
   "outputs": [],
   "source": []
  },
  {
   "cell_type": "code",
   "execution_count": null,
   "id": "a7ba2c55-a9e5-48ac-a081-c3ad76ea234a",
   "metadata": {},
   "outputs": [],
   "source": []
  },
  {
   "cell_type": "code",
   "execution_count": null,
   "id": "676fa1ed-8e3c-4f67-8c31-e1ffb80d802c",
   "metadata": {},
   "outputs": [],
   "source": []
  },
  {
   "cell_type": "code",
   "execution_count": null,
   "id": "19cd032d-968c-4f9d-b3db-4131a7ee489f",
   "metadata": {},
   "outputs": [],
   "source": []
  },
  {
   "cell_type": "code",
   "execution_count": null,
   "id": "7181be23-12de-4854-8ddc-b1dd1c3e520b",
   "metadata": {},
   "outputs": [],
   "source": []
  },
  {
   "cell_type": "code",
   "execution_count": null,
   "id": "c7360e0a-d173-4ec6-9bdc-f58a0669ea25",
   "metadata": {},
   "outputs": [],
   "source": []
  }
 ],
 "metadata": {
  "kernelspec": {
   "display_name": "Python 3 (ipykernel)",
   "language": "python",
   "name": "python3"
  },
  "language_info": {
   "codemirror_mode": {
    "name": "ipython",
    "version": 3
   },
   "file_extension": ".py",
   "mimetype": "text/x-python",
   "name": "python",
   "nbconvert_exporter": "python",
   "pygments_lexer": "ipython3",
   "version": "3.12.5"
  }
 },
 "nbformat": 4,
 "nbformat_minor": 5
}
