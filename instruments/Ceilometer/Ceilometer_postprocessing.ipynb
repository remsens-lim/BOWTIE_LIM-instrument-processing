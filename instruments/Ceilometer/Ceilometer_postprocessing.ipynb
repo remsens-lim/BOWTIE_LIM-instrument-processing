{
 "cells": [
  {
   "cell_type": "markdown",
   "id": "acec1db1-dd00-4fdf-8ae5-066259b3b460",
   "metadata": {},
   "source": [
    "# Ceilometer post processing for IPFS"
   ]
  },
  {
   "cell_type": "code",
   "execution_count": null,
   "id": "5d9d3177-189e-48f8-8c15-89f0e690c5b0",
   "metadata": {},
   "outputs": [],
   "source": [
    "import xarray as xr\n",
    "import numpy as np\n",
    "import glob\n",
    "import matplotlib.pyplot as plt\n",
    "from matplotlib.ticker import AutoMinorLocator, AutoLocator\n",
    "import yaml\n"
   ]
  },
  {
   "cell_type": "code",
   "execution_count": null,
   "id": "4be16ead-b534-4c6a-8d0c-e42b0ff56d72",
   "metadata": {},
   "outputs": [],
   "source": [
    "def add_gl_attrs(data, global_attrs):\n",
    "    for key, value in global_attrs.items():\n",
    "        if key in data.attrs:\n",
    "            # Fallunterscheidung je nach Typ des bestehenden Attributs\n",
    "            if isinstance(data.attrs[key], str):\n",
    "                data.attrs[key] = f\"{value}\\n{data.attrs[key]}\"\n",
    "            elif isinstance(data.attrs[key], list):\n",
    "                if isinstance(value, list):\n",
    "                    data.attrs[key] = [value, data.attrs[key]]\n",
    "            else:\n",
    "                # Für andere Typen: in Liste umwandeln und beide anhängen\n",
    "                data.attrs[key] = [value, data.attrs[key]]\n",
    "        else:\n",
    "            data.attrs[key] = value\n",
    "    return data"
   ]
  },
  {
   "cell_type": "markdown",
   "id": "dfc20773-66b5-4e1e-860e-59fbe8092ad0",
   "metadata": {},
   "source": [
    "## Prepare data\n",
    "\n",
    "read config yaml which contains the data path and global attributes to be added to the dataset"
   ]
  },
  {
   "cell_type": "code",
   "execution_count": null,
   "id": "a33c69d9-83d9-41d4-a956-5cc3e20f28dc",
   "metadata": {},
   "outputs": [],
   "source": [
    "with open(\"ceilometer_config.yaml\", \"r\") as f:\n",
    "    config = yaml.safe_load(f)"
   ]
  },
  {
   "cell_type": "code",
   "execution_count": null,
   "id": "3ed3a415-bff5-40e8-a071-9d329e0c0bc1",
   "metadata": {},
   "outputs": [],
   "source": [
    "global_attrs = config['global_attrs']\n",
    "#global_attrs"
   ]
  },
  {
   "cell_type": "code",
   "execution_count": null,
   "id": "fedfdd53-9dfe-495f-8935-8469b3f7c160",
   "metadata": {},
   "outputs": [],
   "source": [
    "data_path = config['paths']['data_path']\n",
    "data_path_out = config['paths']['data_path_out']"
   ]
  },
  {
   "cell_type": "code",
   "execution_count": null,
   "id": "48fce1e3-0747-49c2-9234-2b024fc4b047",
   "metadata": {},
   "outputs": [],
   "source": [
    "file_list = glob.glob(data_path + '*_FSMETEOR_CHM170158.nc')\n",
    "file_list.sort()"
   ]
  },
  {
   "cell_type": "code",
   "execution_count": null,
   "id": "37cf60ee-8365-445f-a5fd-830290924ac8",
   "metadata": {},
   "outputs": [],
   "source": [
    "#file_list"
   ]
  },
  {
   "cell_type": "markdown",
   "id": "1eec18e5-dd4c-46c5-8367-69c17909b7d6",
   "metadata": {},
   "source": [
    "## Write dataset into zarr"
   ]
  },
  {
   "cell_type": "code",
   "execution_count": null,
   "id": "8652d7e3-af26-4f93-a101-e883e3615534",
   "metadata": {},
   "outputs": [],
   "source": [
    "for file in file_list:\n",
    "    #read hatpro file\n",
    "    data = xr.open_dataset(file)\n",
    "\n",
    "    # Add global attributes according to IPFS\n",
    "    data = add_gl_attrs(data, global_attrs)\n",
    "\n",
    "    filename = file.split('/')[-1].split('.')[0]\n",
    "\n",
    "    data.to_zarr(data_path_out + filename + \".zarr\", mode=\"w\")\n",
    "\n",
    "    data.close()"
   ]
  },
  {
   "cell_type": "code",
   "execution_count": null,
   "id": "832c2d43-fb39-475c-bfc7-b3605ded2d75",
   "metadata": {},
   "outputs": [],
   "source": []
  },
  {
   "cell_type": "code",
   "execution_count": null,
   "id": "fb756e3e-60d3-493a-bc1f-3144da0bfd63",
   "metadata": {},
   "outputs": [],
   "source": []
  },
  {
   "cell_type": "code",
   "execution_count": null,
   "id": "a7ba2c55-a9e5-48ac-a081-c3ad76ea234a",
   "metadata": {},
   "outputs": [],
   "source": []
  },
  {
   "cell_type": "code",
   "execution_count": null,
   "id": "676fa1ed-8e3c-4f67-8c31-e1ffb80d802c",
   "metadata": {},
   "outputs": [],
   "source": []
  },
  {
   "cell_type": "code",
   "execution_count": null,
   "id": "19cd032d-968c-4f9d-b3db-4131a7ee489f",
   "metadata": {},
   "outputs": [],
   "source": []
  },
  {
   "cell_type": "code",
   "execution_count": null,
   "id": "7181be23-12de-4854-8ddc-b1dd1c3e520b",
   "metadata": {},
   "outputs": [],
   "source": []
  },
  {
   "cell_type": "code",
   "execution_count": null,
   "id": "c7360e0a-d173-4ec6-9bdc-f58a0669ea25",
   "metadata": {},
   "outputs": [],
   "source": []
  }
 ],
 "metadata": {
  "kernelspec": {
   "display_name": "Python 3 (ipykernel)",
   "language": "python",
   "name": "python3"
  },
  "language_info": {
   "codemirror_mode": {
    "name": "ipython",
    "version": 3
   },
   "file_extension": ".py",
   "mimetype": "text/x-python",
   "name": "python",
   "nbconvert_exporter": "python",
   "pygments_lexer": "ipython3",
   "version": "3.12.5"
  }
 },
 "nbformat": 4,
 "nbformat_minor": 5
}
